{
  "nbformat": 4,
  "nbformat_minor": 0,
  "metadata": {
    "colab": {
      "name": "DecisionTree.ipynb",
      "provenance": [],
      "collapsed_sections": [],
      "mount_file_id": "10etct8hKJDI1eBTdnfj6lF0zc4HOgMQV",
      "authorship_tag": "ABX9TyPv6oQuT0TUJIeR8SaWI4+0",
      "include_colab_link": true
    },
    "kernelspec": {
      "name": "python3",
      "display_name": "Python 3"
    },
    "language_info": {
      "name": "python"
    }
  },
  "cells": [
    {
      "cell_type": "markdown",
      "metadata": {
        "id": "view-in-github",
        "colab_type": "text"
      },
      "source": [
        "<a href=\"https://colab.research.google.com/github/ReisG/2048/blob/main/DecisionTree.ipynb\" target=\"_parent\"><img src=\"https://colab.research.google.com/assets/colab-badge.svg\" alt=\"Open In Colab\"/></a>"
      ]
    },
    {
      "cell_type": "code",
      "metadata": {
        "id": "0hTgvJZbj0ob"
      },
      "source": [
        "import pandas as pd"
      ],
      "execution_count": null,
      "outputs": []
    },
    {
      "cell_type": "code",
      "metadata": {
        "id": "VTnpGbWMkt7n"
      },
      "source": [
        "data = pd.read_csv('drive/MyDrive/Colab Notebooks/Dota 2/dota2_skill_train.csv')"
      ],
      "execution_count": null,
      "outputs": []
    },
    {
      "cell_type": "code",
      "metadata": {
        "colab": {
          "base_uri": "https://localhost:8080/",
          "height": 224
        },
        "id": "3pTW9B8KlWXh",
        "outputId": "ad011f56-e5e1-4319-8741-ec196221811c"
      },
      "source": [
        "data.head()"
      ],
      "execution_count": null,
      "outputs": [
        {
          "output_type": "execute_result",
          "data": {
            "text/html": [
              "<div>\n",
              "<style scoped>\n",
              "    .dataframe tbody tr th:only-of-type {\n",
              "        vertical-align: middle;\n",
              "    }\n",
              "\n",
              "    .dataframe tbody tr th {\n",
              "        vertical-align: top;\n",
              "    }\n",
              "\n",
              "    .dataframe thead th {\n",
              "        text-align: right;\n",
              "    }\n",
              "</style>\n",
              "<table border=\"1\" class=\"dataframe\">\n",
              "  <thead>\n",
              "    <tr style=\"text-align: right;\">\n",
              "      <th></th>\n",
              "      <th>id</th>\n",
              "      <th>skilled</th>\n",
              "      <th>player_team</th>\n",
              "      <th>winner_team</th>\n",
              "      <th>duration</th>\n",
              "      <th>pre_game_duration</th>\n",
              "      <th>first_blood_time</th>\n",
              "      <th>first_blood_claimed</th>\n",
              "      <th>hero_id</th>\n",
              "      <th>hero_pick_order</th>\n",
              "      <th>leaver_status</th>\n",
              "      <th>party_players</th>\n",
              "      <th>kills</th>\n",
              "      <th>deaths</th>\n",
              "      <th>assists</th>\n",
              "      <th>denies</th>\n",
              "      <th>level</th>\n",
              "      <th>net_worth</th>\n",
              "      <th>gold</th>\n",
              "      <th>gold_spent</th>\n",
              "      <th>last_hits</th>\n",
              "      <th>gold_per_min</th>\n",
              "      <th>xp_per_min</th>\n",
              "      <th>hero_damage</th>\n",
              "      <th>tower_damage</th>\n",
              "      <th>hero_healing</th>\n",
              "      <th>scaled_hero_damage</th>\n",
              "      <th>scaled_tower_damage</th>\n",
              "      <th>scaled_hero_healing</th>\n",
              "      <th>stuns</th>\n",
              "      <th>team_fight_participation</th>\n",
              "      <th>observer_wards_placed</th>\n",
              "      <th>sentry_wards_placed</th>\n",
              "      <th>creeps_stacked</th>\n",
              "      <th>camps_stacked</th>\n",
              "      <th>rune_pickups</th>\n",
              "      <th>tower_kills</th>\n",
              "      <th>roshan_kills</th>\n",
              "      <th>nearby_creep_death_count</th>\n",
              "      <th>radiant_tower_status</th>\n",
              "      <th>dire_tower_status</th>\n",
              "      <th>radiant_barracks_status</th>\n",
              "      <th>dire_barracks_status</th>\n",
              "      <th>fight_score</th>\n",
              "      <th>farm_score</th>\n",
              "      <th>support_score</th>\n",
              "      <th>push_score</th>\n",
              "      <th>avg_kills_x16</th>\n",
              "      <th>avg_deaths_x16</th>\n",
              "      <th>avg_assists_x16</th>\n",
              "      <th>avg_gpm_x16</th>\n",
              "      <th>avg_xpm_x16</th>\n",
              "      <th>best_kills_x16</th>\n",
              "      <th>best_assists_x16</th>\n",
              "      <th>best_gpm_x16</th>\n",
              "      <th>best_xpm_x16</th>\n",
              "      <th>win_streak</th>\n",
              "      <th>best_win_streak</th>\n",
              "    </tr>\n",
              "  </thead>\n",
              "  <tbody>\n",
              "    <tr>\n",
              "      <th>0</th>\n",
              "      <td>7</td>\n",
              "      <td>1</td>\n",
              "      <td>dire</td>\n",
              "      <td>dire</td>\n",
              "      <td>2140</td>\n",
              "      <td>90</td>\n",
              "      <td>129</td>\n",
              "      <td>0</td>\n",
              "      <td>90</td>\n",
              "      <td>9</td>\n",
              "      <td>0</td>\n",
              "      <td>3</td>\n",
              "      <td>3</td>\n",
              "      <td>8</td>\n",
              "      <td>22</td>\n",
              "      <td>1</td>\n",
              "      <td>18</td>\n",
              "      <td>10819</td>\n",
              "      <td>1119</td>\n",
              "      <td>11765</td>\n",
              "      <td>76</td>\n",
              "      <td>375</td>\n",
              "      <td>434</td>\n",
              "      <td>13262</td>\n",
              "      <td>873</td>\n",
              "      <td>155</td>\n",
              "      <td>8878</td>\n",
              "      <td>490</td>\n",
              "      <td>168</td>\n",
              "      <td>10.106689</td>\n",
              "      <td>0.694444</td>\n",
              "      <td>3</td>\n",
              "      <td>3</td>\n",
              "      <td>8</td>\n",
              "      <td>3</td>\n",
              "      <td>4</td>\n",
              "      <td>0</td>\n",
              "      <td>0</td>\n",
              "      <td>298</td>\n",
              "      <td>0</td>\n",
              "      <td>2046</td>\n",
              "      <td>0</td>\n",
              "      <td>0</td>\n",
              "      <td>0.888889</td>\n",
              "      <td>112.769130</td>\n",
              "      <td>1660.0</td>\n",
              "      <td>437.86905</td>\n",
              "      <td>2</td>\n",
              "      <td>8</td>\n",
              "      <td>15</td>\n",
              "      <td>352</td>\n",
              "      <td>430</td>\n",
              "      <td>10</td>\n",
              "      <td>30</td>\n",
              "      <td>551</td>\n",
              "      <td>745</td>\n",
              "      <td>2</td>\n",
              "      <td>5</td>\n",
              "    </tr>\n",
              "    <tr>\n",
              "      <th>1</th>\n",
              "      <td>8</td>\n",
              "      <td>0</td>\n",
              "      <td>radiant</td>\n",
              "      <td>radiant</td>\n",
              "      <td>2138</td>\n",
              "      <td>90</td>\n",
              "      <td>174</td>\n",
              "      <td>0</td>\n",
              "      <td>5</td>\n",
              "      <td>5</td>\n",
              "      <td>0</td>\n",
              "      <td>1</td>\n",
              "      <td>3</td>\n",
              "      <td>9</td>\n",
              "      <td>23</td>\n",
              "      <td>1</td>\n",
              "      <td>21</td>\n",
              "      <td>6719</td>\n",
              "      <td>1014</td>\n",
              "      <td>10060</td>\n",
              "      <td>26</td>\n",
              "      <td>313</td>\n",
              "      <td>554</td>\n",
              "      <td>15569</td>\n",
              "      <td>1101</td>\n",
              "      <td>400</td>\n",
              "      <td>10590</td>\n",
              "      <td>581</td>\n",
              "      <td>333</td>\n",
              "      <td>70.608030</td>\n",
              "      <td>0.456140</td>\n",
              "      <td>15</td>\n",
              "      <td>13</td>\n",
              "      <td>8</td>\n",
              "      <td>2</td>\n",
              "      <td>2</td>\n",
              "      <td>1</td>\n",
              "      <td>0</td>\n",
              "      <td>262</td>\n",
              "      <td>2047</td>\n",
              "      <td>0</td>\n",
              "      <td>63</td>\n",
              "      <td>63</td>\n",
              "      <td>0.777778</td>\n",
              "      <td>44.594570</td>\n",
              "      <td>11760.0</td>\n",
              "      <td>709.44130</td>\n",
              "      <td>4</td>\n",
              "      <td>9</td>\n",
              "      <td>19</td>\n",
              "      <td>294</td>\n",
              "      <td>425</td>\n",
              "      <td>13</td>\n",
              "      <td>37</td>\n",
              "      <td>445</td>\n",
              "      <td>717</td>\n",
              "      <td>2</td>\n",
              "      <td>12</td>\n",
              "    </tr>\n",
              "    <tr>\n",
              "      <th>2</th>\n",
              "      <td>12</td>\n",
              "      <td>0</td>\n",
              "      <td>radiant</td>\n",
              "      <td>radiant</td>\n",
              "      <td>3547</td>\n",
              "      <td>90</td>\n",
              "      <td>360</td>\n",
              "      <td>0</td>\n",
              "      <td>81</td>\n",
              "      <td>7</td>\n",
              "      <td>0</td>\n",
              "      <td>1</td>\n",
              "      <td>13</td>\n",
              "      <td>5</td>\n",
              "      <td>18</td>\n",
              "      <td>34</td>\n",
              "      <td>25</td>\n",
              "      <td>31946</td>\n",
              "      <td>3321</td>\n",
              "      <td>32420</td>\n",
              "      <td>387</td>\n",
              "      <td>582</td>\n",
              "      <td>709</td>\n",
              "      <td>56407</td>\n",
              "      <td>5526</td>\n",
              "      <td>400</td>\n",
              "      <td>24293</td>\n",
              "      <td>3092</td>\n",
              "      <td>361</td>\n",
              "      <td>48.329970</td>\n",
              "      <td>0.620000</td>\n",
              "      <td>1</td>\n",
              "      <td>1</td>\n",
              "      <td>0</td>\n",
              "      <td>0</td>\n",
              "      <td>11</td>\n",
              "      <td>2</td>\n",
              "      <td>0</td>\n",
              "      <td>687</td>\n",
              "      <td>1830</td>\n",
              "      <td>0</td>\n",
              "      <td>63</td>\n",
              "      <td>63</td>\n",
              "      <td>0.769231</td>\n",
              "      <td>288.519170</td>\n",
              "      <td>500.0</td>\n",
              "      <td>1708.28430</td>\n",
              "      <td>13</td>\n",
              "      <td>7</td>\n",
              "      <td>9</td>\n",
              "      <td>493</td>\n",
              "      <td>543</td>\n",
              "      <td>23</td>\n",
              "      <td>18</td>\n",
              "      <td>691</td>\n",
              "      <td>762</td>\n",
              "      <td>3</td>\n",
              "      <td>3</td>\n",
              "    </tr>\n",
              "    <tr>\n",
              "      <th>3</th>\n",
              "      <td>13</td>\n",
              "      <td>1</td>\n",
              "      <td>dire</td>\n",
              "      <td>radiant</td>\n",
              "      <td>1878</td>\n",
              "      <td>90</td>\n",
              "      <td>28</td>\n",
              "      <td>0</td>\n",
              "      <td>74</td>\n",
              "      <td>9</td>\n",
              "      <td>0</td>\n",
              "      <td>2</td>\n",
              "      <td>1</td>\n",
              "      <td>6</td>\n",
              "      <td>7</td>\n",
              "      <td>10</td>\n",
              "      <td>16</td>\n",
              "      <td>7849</td>\n",
              "      <td>1469</td>\n",
              "      <td>7685</td>\n",
              "      <td>99</td>\n",
              "      <td>303</td>\n",
              "      <td>413</td>\n",
              "      <td>12048</td>\n",
              "      <td>516</td>\n",
              "      <td>0</td>\n",
              "      <td>6021</td>\n",
              "      <td>404</td>\n",
              "      <td>0</td>\n",
              "      <td>29.853643</td>\n",
              "      <td>0.320000</td>\n",
              "      <td>3</td>\n",
              "      <td>0</td>\n",
              "      <td>15</td>\n",
              "      <td>4</td>\n",
              "      <td>2</td>\n",
              "      <td>1</td>\n",
              "      <td>0</td>\n",
              "      <td>199</td>\n",
              "      <td>1983</td>\n",
              "      <td>0</td>\n",
              "      <td>63</td>\n",
              "      <td>63</td>\n",
              "      <td>0.250000</td>\n",
              "      <td>158.204990</td>\n",
              "      <td>900.0</td>\n",
              "      <td>521.82110</td>\n",
              "      <td>10</td>\n",
              "      <td>7</td>\n",
              "      <td>12</td>\n",
              "      <td>515</td>\n",
              "      <td>583</td>\n",
              "      <td>25</td>\n",
              "      <td>34</td>\n",
              "      <td>869</td>\n",
              "      <td>935</td>\n",
              "      <td>0</td>\n",
              "      <td>6</td>\n",
              "    </tr>\n",
              "    <tr>\n",
              "      <th>4</th>\n",
              "      <td>14</td>\n",
              "      <td>1</td>\n",
              "      <td>dire</td>\n",
              "      <td>radiant</td>\n",
              "      <td>2232</td>\n",
              "      <td>90</td>\n",
              "      <td>129</td>\n",
              "      <td>0</td>\n",
              "      <td>14</td>\n",
              "      <td>6</td>\n",
              "      <td>0</td>\n",
              "      <td>2</td>\n",
              "      <td>2</td>\n",
              "      <td>10</td>\n",
              "      <td>11</td>\n",
              "      <td>0</td>\n",
              "      <td>17</td>\n",
              "      <td>4105</td>\n",
              "      <td>475</td>\n",
              "      <td>5615</td>\n",
              "      <td>7</td>\n",
              "      <td>194</td>\n",
              "      <td>354</td>\n",
              "      <td>9880</td>\n",
              "      <td>0</td>\n",
              "      <td>0</td>\n",
              "      <td>7725</td>\n",
              "      <td>0</td>\n",
              "      <td>0</td>\n",
              "      <td>50.930786</td>\n",
              "      <td>0.541667</td>\n",
              "      <td>9</td>\n",
              "      <td>3</td>\n",
              "      <td>0</td>\n",
              "      <td>0</td>\n",
              "      <td>4</td>\n",
              "      <td>0</td>\n",
              "      <td>0</td>\n",
              "      <td>240</td>\n",
              "      <td>1974</td>\n",
              "      <td>0</td>\n",
              "      <td>63</td>\n",
              "      <td>63</td>\n",
              "      <td>0.888889</td>\n",
              "      <td>8.776043</td>\n",
              "      <td>3630.0</td>\n",
              "      <td>0.00000</td>\n",
              "      <td>8</td>\n",
              "      <td>10</td>\n",
              "      <td>16</td>\n",
              "      <td>337</td>\n",
              "      <td>452</td>\n",
              "      <td>34</td>\n",
              "      <td>43</td>\n",
              "      <td>672</td>\n",
              "      <td>797</td>\n",
              "      <td>0</td>\n",
              "      <td>9</td>\n",
              "    </tr>\n",
              "  </tbody>\n",
              "</table>\n",
              "</div>"
            ],
            "text/plain": [
              "   id  skilled player_team  ... best_xpm_x16  win_streak  best_win_streak\n",
              "0   7        1        dire  ...          745           2                5\n",
              "1   8        0     radiant  ...          717           2               12\n",
              "2  12        0     radiant  ...          762           3                3\n",
              "3  13        1        dire  ...          935           0                6\n",
              "4  14        1        dire  ...          797           0                9\n",
              "\n",
              "[5 rows x 58 columns]"
            ]
          },
          "metadata": {},
          "execution_count": 3
        }
      ]
    },
    {
      "cell_type": "code",
      "metadata": {
        "colab": {
          "base_uri": "https://localhost:8080/"
        },
        "id": "DdcznapSlW5F",
        "outputId": "0db4f785-51a0-4f92-d580-37bd8fc6014d"
      },
      "source": [
        "data.info()"
      ],
      "execution_count": null,
      "outputs": [
        {
          "output_type": "stream",
          "text": [
            "<class 'pandas.core.frame.DataFrame'>\n",
            "RangeIndex: 99871 entries, 0 to 99870\n",
            "Data columns (total 57 columns):\n",
            " #   Column                    Non-Null Count  Dtype  \n",
            "---  ------                    --------------  -----  \n",
            " 0   skilled                   99871 non-null  int64  \n",
            " 1   player_team               99871 non-null  int64  \n",
            " 2   winner_team               99871 non-null  int64  \n",
            " 3   duration                  99871 non-null  int64  \n",
            " 4   pre_game_duration         99871 non-null  int64  \n",
            " 5   first_blood_time          99871 non-null  int64  \n",
            " 6   first_blood_claimed       99871 non-null  int64  \n",
            " 7   hero_id                   99871 non-null  int64  \n",
            " 8   hero_pick_order           99871 non-null  int64  \n",
            " 9   leaver_status             99871 non-null  int64  \n",
            " 10  party_players             99871 non-null  int64  \n",
            " 11  kills                     99871 non-null  int64  \n",
            " 12  deaths                    99871 non-null  int64  \n",
            " 13  assists                   99871 non-null  int64  \n",
            " 14  denies                    99871 non-null  int64  \n",
            " 15  level                     99871 non-null  int64  \n",
            " 16  net_worth                 99871 non-null  int64  \n",
            " 17  gold                      99871 non-null  int64  \n",
            " 18  gold_spent                99871 non-null  int64  \n",
            " 19  last_hits                 99871 non-null  int64  \n",
            " 20  gold_per_min              99871 non-null  int64  \n",
            " 21  xp_per_min                99871 non-null  int64  \n",
            " 22  hero_damage               99871 non-null  int64  \n",
            " 23  tower_damage              99871 non-null  int64  \n",
            " 24  hero_healing              99871 non-null  int64  \n",
            " 25  scaled_hero_damage        99871 non-null  int64  \n",
            " 26  scaled_tower_damage       99871 non-null  int64  \n",
            " 27  scaled_hero_healing       99871 non-null  int64  \n",
            " 28  stuns                     99871 non-null  float64\n",
            " 29  team_fight_participation  99871 non-null  float64\n",
            " 30  observer_wards_placed     99871 non-null  int64  \n",
            " 31  sentry_wards_placed       99871 non-null  int64  \n",
            " 32  creeps_stacked            99871 non-null  int64  \n",
            " 33  camps_stacked             99871 non-null  int64  \n",
            " 34  rune_pickups              99871 non-null  int64  \n",
            " 35  tower_kills               99871 non-null  int64  \n",
            " 36  roshan_kills              99871 non-null  int64  \n",
            " 37  nearby_creep_death_count  99871 non-null  int64  \n",
            " 38  radiant_tower_status      99871 non-null  int64  \n",
            " 39  dire_tower_status         99871 non-null  int64  \n",
            " 40  radiant_barracks_status   99871 non-null  int64  \n",
            " 41  dire_barracks_status      99871 non-null  int64  \n",
            " 42  fight_score               99871 non-null  float64\n",
            " 43  farm_score                99871 non-null  float64\n",
            " 44  support_score             99871 non-null  float64\n",
            " 45  push_score                99871 non-null  float64\n",
            " 46  avg_kills_x16             99871 non-null  int64  \n",
            " 47  avg_deaths_x16            99871 non-null  int64  \n",
            " 48  avg_assists_x16           99871 non-null  int64  \n",
            " 49  avg_gpm_x16               99871 non-null  int64  \n",
            " 50  avg_xpm_x16               99871 non-null  int64  \n",
            " 51  best_kills_x16            99871 non-null  int64  \n",
            " 52  best_assists_x16          99871 non-null  int64  \n",
            " 53  best_gpm_x16              99871 non-null  int64  \n",
            " 54  best_xpm_x16              99871 non-null  int64  \n",
            " 55  win_streak                99871 non-null  int64  \n",
            " 56  best_win_streak           99871 non-null  int64  \n",
            "dtypes: float64(6), int64(51)\n",
            "memory usage: 43.4 MB\n"
          ],
          "name": "stdout"
        }
      ]
    },
    {
      "cell_type": "code",
      "metadata": {
        "colab": {
          "base_uri": "https://localhost:8080/"
        },
        "id": "bm-YoUB0879z",
        "outputId": "7dddeda0-9763-43e4-d359-d655b62d54be"
      },
      "source": [
        "data.winner_team.unique()"
      ],
      "execution_count": null,
      "outputs": [
        {
          "output_type": "execute_result",
          "data": {
            "text/plain": [
              "array([0, 1])"
            ]
          },
          "metadata": {},
          "execution_count": 6
        }
      ]
    },
    {
      "cell_type": "code",
      "metadata": {
        "id": "kL_fEpNxoAOy"
      },
      "source": [
        "data.player_team = data.player_team.map({'dire':0, 'radiant':1})\n",
        "data.winner_team = data.winner_team.map({'dire':0, 'radiant':1})\n",
        "data = data.drop('id', axis=1)"
      ],
      "execution_count": null,
      "outputs": []
    },
    {
      "cell_type": "code",
      "metadata": {
        "id": "6xx3u93ro-iQ"
      },
      "source": [
        "y = data.skilled\n",
        "X = data.drop('skilled', axis=1)\n",
        "\n",
        "from sklearn.model_selection import train_test_split"
      ],
      "execution_count": null,
      "outputs": []
    },
    {
      "cell_type": "code",
      "metadata": {
        "id": "KtUIKO1arIQM"
      },
      "source": [
        "from sklearn.tree import DecisionTreeClassifier"
      ],
      "execution_count": null,
      "outputs": []
    },
    {
      "cell_type": "code",
      "metadata": {
        "id": "RZjR27OcvjMV"
      },
      "source": [
        "def model_score(max_depth, X=X, y=y):\n",
        "  X_train, X_test, y_train, y_test = train_test_split(X, y, random_state=1, test_size=0.2)\n",
        "  model = DecisionTreeClassifier(max_depth=max_depth, random_state=1)\n",
        "  model.fit(X_train, y_train)\n",
        "  return model.score(X_test, y_test)"
      ],
      "execution_count": null,
      "outputs": []
    },
    {
      "cell_type": "code",
      "metadata": {
        "colab": {
          "base_uri": "https://localhost:8080/"
        },
        "id": "3EcPrrnoxjIl",
        "outputId": "a7fc5d13-a8f4-4729-d28c-680794086946"
      },
      "source": [
        "depths = range(6, 16)\n",
        "for d in depths:\n",
        "  print(d, ':', model_score(d))"
      ],
      "execution_count": null,
      "outputs": [
        {
          "output_type": "stream",
          "text": [
            "6 : 0.6671839799749687\n",
            "7 : 0.6715394242803504\n",
            "8 : 0.6741927409261577\n",
            "9 : 0.6755944931163955\n",
            "10 : 0.6737421777221527\n",
            "11 : 0.669837296620776\n",
            "12 : 0.6635294117647059\n",
            "13 : 0.6655319148936171\n",
            "14 : 0.6581226533166458\n",
            "15 : 0.6544180225281602\n"
          ],
          "name": "stdout"
        }
      ]
    },
    {
      "cell_type": "code",
      "metadata": {
        "colab": {
          "base_uri": "https://localhost:8080/"
        },
        "id": "GQlT8dIWvWUB",
        "outputId": "6b5e7a78-d984-4a87-b967-4c4466e24986"
      },
      "source": [
        "X_train, X_test, y_train, y_test = train_test_split(X, y, random_state=1, test_size=0.2)\n",
        "model = DecisionTreeClassifier(random_state=3, max_depth=9, criterion='entropy')\n",
        "model.fit(X_train, y_train)"
      ],
      "execution_count": null,
      "outputs": [
        {
          "output_type": "execute_result",
          "data": {
            "text/plain": [
              "DecisionTreeClassifier(ccp_alpha=0.0, class_weight=None, criterion='entropy',\n",
              "                       max_depth=9, max_features=None, max_leaf_nodes=None,\n",
              "                       min_impurity_decrease=0.0, min_impurity_split=None,\n",
              "                       min_samples_leaf=1, min_samples_split=2,\n",
              "                       min_weight_fraction_leaf=0.0, presort='deprecated',\n",
              "                       random_state=3, splitter='best')"
            ]
          },
          "metadata": {},
          "execution_count": 39
        }
      ]
    },
    {
      "cell_type": "code",
      "metadata": {
        "colab": {
          "base_uri": "https://localhost:8080/"
        },
        "id": "3H5jmH9VsOiH",
        "outputId": "dc7c10e3-76d3-4d27-d995-aa6f05f60608"
      },
      "source": [
        "model.score(X_train, y_train)"
      ],
      "execution_count": null,
      "outputs": [
        {
          "output_type": "execute_result",
          "data": {
            "text/plain": [
              "0.7026884950435566"
            ]
          },
          "metadata": {},
          "execution_count": 40
        }
      ]
    },
    {
      "cell_type": "code",
      "metadata": {
        "colab": {
          "base_uri": "https://localhost:8080/"
        },
        "id": "qR-qoUrisc-2",
        "outputId": "9f9c7826-06f4-424f-ab57-5be4622d52cd"
      },
      "source": [
        "model.score(X_test, y_test)"
      ],
      "execution_count": null,
      "outputs": [
        {
          "output_type": "execute_result",
          "data": {
            "text/plain": [
              "0.6764455569461827"
            ]
          },
          "metadata": {},
          "execution_count": 41
        }
      ]
    },
    {
      "cell_type": "markdown",
      "metadata": {
        "id": "JpxOoIpG2hgE"
      },
      "source": [
        "Обучение конечноё модели"
      ]
    },
    {
      "cell_type": "code",
      "metadata": {
        "colab": {
          "base_uri": "https://localhost:8080/"
        },
        "id": "7EVKJZVh26W8",
        "outputId": "22c9667b-b835-497c-acb0-7b8c50a32b7e"
      },
      "source": [
        "final_model = DecisionTreeClassifier(random_state=3, max_depth=9, criterion='entropy')\n",
        "final_model.fit(X, y)"
      ],
      "execution_count": null,
      "outputs": [
        {
          "output_type": "execute_result",
          "data": {
            "text/plain": [
              "DecisionTreeClassifier(ccp_alpha=0.0, class_weight=None, criterion='entropy',\n",
              "                       max_depth=9, max_features=None, max_leaf_nodes=None,\n",
              "                       min_impurity_decrease=0.0, min_impurity_split=None,\n",
              "                       min_samples_leaf=1, min_samples_split=2,\n",
              "                       min_weight_fraction_leaf=0.0, presort='deprecated',\n",
              "                       random_state=3, splitter='best')"
            ]
          },
          "metadata": {},
          "execution_count": 10
        }
      ]
    },
    {
      "cell_type": "markdown",
      "metadata": {
        "id": "CErgtWHB30gi"
      },
      "source": [
        "Ответ на ввод"
      ]
    },
    {
      "cell_type": "code",
      "metadata": {
        "id": "imfYByoJ3tgy"
      },
      "source": [
        "test = pd.read_csv('drive/MyDrive/Colab Notebooks/Dota 2/test.csv')"
      ],
      "execution_count": null,
      "outputs": []
    },
    {
      "cell_type": "code",
      "metadata": {
        "id": "VHN5rb3w5F5k"
      },
      "source": [
        "test.player_team = test.player_team.map({'dire':0, 'radiant':1})\n",
        "test.winner_team = test.winner_team.map({'dire':0, 'radiant':1})"
      ],
      "execution_count": null,
      "outputs": []
    },
    {
      "cell_type": "code",
      "metadata": {
        "colab": {
          "base_uri": "https://localhost:8080/"
        },
        "id": "VmKvG68s796A",
        "outputId": "cde2469d-89fd-4eb2-ce9b-46b4dc32c94c"
      },
      "source": [
        "test.info()"
      ],
      "execution_count": null,
      "outputs": [
        {
          "output_type": "stream",
          "text": [
            "<class 'pandas.core.frame.DataFrame'>\n",
            "RangeIndex: 39949 entries, 0 to 39948\n",
            "Data columns (total 56 columns):\n",
            " #   Column                    Non-Null Count  Dtype  \n",
            "---  ------                    --------------  -----  \n",
            " 0   player_team               39949 non-null  int64  \n",
            " 1   winner_team               39949 non-null  int64  \n",
            " 2   duration                  39949 non-null  int64  \n",
            " 3   pre_game_duration         39949 non-null  int64  \n",
            " 4   first_blood_time          39949 non-null  int64  \n",
            " 5   first_blood_claimed       39949 non-null  int64  \n",
            " 6   hero_id                   39949 non-null  int64  \n",
            " 7   hero_pick_order           39949 non-null  int64  \n",
            " 8   leaver_status             39949 non-null  int64  \n",
            " 9   party_players             39949 non-null  int64  \n",
            " 10  kills                     39949 non-null  int64  \n",
            " 11  deaths                    39949 non-null  int64  \n",
            " 12  assists                   39949 non-null  int64  \n",
            " 13  denies                    39949 non-null  int64  \n",
            " 14  level                     39949 non-null  int64  \n",
            " 15  net_worth                 39949 non-null  int64  \n",
            " 16  gold                      39949 non-null  int64  \n",
            " 17  gold_spent                39949 non-null  int64  \n",
            " 18  last_hits                 39949 non-null  int64  \n",
            " 19  gold_per_min              39949 non-null  int64  \n",
            " 20  xp_per_min                39949 non-null  int64  \n",
            " 21  hero_damage               39949 non-null  int64  \n",
            " 22  tower_damage              39949 non-null  int64  \n",
            " 23  hero_healing              39949 non-null  int64  \n",
            " 24  scaled_hero_damage        39949 non-null  int64  \n",
            " 25  scaled_tower_damage       39949 non-null  int64  \n",
            " 26  scaled_hero_healing       39949 non-null  int64  \n",
            " 27  stuns                     39949 non-null  float64\n",
            " 28  team_fight_participation  39949 non-null  float64\n",
            " 29  observer_wards_placed     39949 non-null  int64  \n",
            " 30  sentry_wards_placed       39949 non-null  int64  \n",
            " 31  creeps_stacked            39949 non-null  int64  \n",
            " 32  camps_stacked             39949 non-null  int64  \n",
            " 33  rune_pickups              39949 non-null  int64  \n",
            " 34  tower_kills               39949 non-null  int64  \n",
            " 35  roshan_kills              39949 non-null  int64  \n",
            " 36  nearby_creep_death_count  39949 non-null  int64  \n",
            " 37  radiant_tower_status      39949 non-null  int64  \n",
            " 38  dire_tower_status         39949 non-null  int64  \n",
            " 39  radiant_barracks_status   39949 non-null  int64  \n",
            " 40  dire_barracks_status      39949 non-null  int64  \n",
            " 41  fight_score               39949 non-null  float64\n",
            " 42  farm_score                39949 non-null  float64\n",
            " 43  support_score             39949 non-null  float64\n",
            " 44  push_score                39949 non-null  float64\n",
            " 45  avg_kills_x16             39949 non-null  int64  \n",
            " 46  avg_deaths_x16            39949 non-null  int64  \n",
            " 47  avg_assists_x16           39949 non-null  int64  \n",
            " 48  avg_gpm_x16               39949 non-null  int64  \n",
            " 49  avg_xpm_x16               39949 non-null  int64  \n",
            " 50  best_kills_x16            39949 non-null  int64  \n",
            " 51  best_assists_x16          39949 non-null  int64  \n",
            " 52  best_gpm_x16              39949 non-null  int64  \n",
            " 53  best_xpm_x16              39949 non-null  int64  \n",
            " 54  win_streak                39949 non-null  int64  \n",
            " 55  best_win_streak           39949 non-null  int64  \n",
            "dtypes: float64(6), int64(50)\n",
            "memory usage: 17.1 MB\n"
          ],
          "name": "stdout"
        }
      ]
    },
    {
      "cell_type": "code",
      "metadata": {
        "id": "LJRxiyWE6G1B"
      },
      "source": [
        "answer = final_model.predict(test)\n",
        "out = pd.DataFrame({'Id': list(range(1, len(answer)+1)) , 'skilled':answer})\n",
        "out.to_csv('drive/MyDrive/Colab Notebooks/Dota 2/dota2_out.csv', index=False)"
      ],
      "execution_count": null,
      "outputs": []
    },
    {
      "cell_type": "code",
      "metadata": {
        "colab": {
          "base_uri": "https://localhost:8080/"
        },
        "id": "N9Eskn0R615k",
        "outputId": "7694ff8d-914d-489d-8ca4-a1c2b802da39"
      },
      "source": [
        "len(answer)"
      ],
      "execution_count": null,
      "outputs": [
        {
          "output_type": "execute_result",
          "data": {
            "text/plain": [
              "39949"
            ]
          },
          "metadata": {},
          "execution_count": 16
        }
      ]
    },
    {
      "cell_type": "code",
      "metadata": {
        "id": "2CJsHg0O-XdC"
      },
      "source": [
        ""
      ],
      "execution_count": null,
      "outputs": []
    }
  ]
}